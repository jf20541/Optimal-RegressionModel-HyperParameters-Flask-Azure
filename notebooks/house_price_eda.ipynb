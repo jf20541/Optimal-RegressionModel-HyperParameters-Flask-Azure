{
 "cells": [
  {
   "cell_type": "code",
   "execution_count": null,
   "source": [
    "import pandas as pd\n",
    "import numpy as np\n",
    "import seaborn as sns\n",
    "import matplotlib.pyplot as plt\n",
    "from scipy import stats\n"
   ],
   "outputs": [],
   "metadata": {}
  },
  {
   "cell_type": "code",
   "execution_count": null,
   "source": [
    "df = pd.read_csv('../inputs/train.csv')\n",
    "df.head()"
   ],
   "outputs": [],
   "metadata": {}
  },
  {
   "cell_type": "code",
   "execution_count": null,
   "source": [
    "print(f'DataFrame has {df.shape[0]} of Rows, and {df.shape[1]} of Columns')\n",
    "print(df.columns)"
   ],
   "outputs": [],
   "metadata": {}
  },
  {
   "cell_type": "code",
   "execution_count": null,
   "source": [
    "# dopping features (date, street, and country)\n",
    "df = df.drop(['date', 'street', 'country'], axis=1)"
   ],
   "outputs": [],
   "metadata": {}
  },
  {
   "cell_type": "code",
   "execution_count": null,
   "source": [
    "# create a pandas dataframe of each features, data-type, percentage of num of null values\n",
    "\n",
    "df_details = pd.DataFrame(df.dtypes).T.rename(index={0:'datatype'})\n",
    "df_details = df_details.append(pd.DataFrame(df.isnull().sum()/len(df)*100).T.rename(index={0:'pct_null_values'}))\n",
    "df_details"
   ],
   "outputs": [],
   "metadata": {}
  },
  {
   "cell_type": "code",
   "execution_count": null,
   "source": [
    "# DATA CLEANING \n",
    "\n",
    "# set price as target values \n",
    "# fix yr_built and yr_renovated\n",
    "# check city value counts and one-hot-encode\n",
    "# clean state-zip and mean encode it "
   ],
   "outputs": [],
   "metadata": {}
  },
  {
   "cell_type": "code",
   "execution_count": null,
   "source": [
    "# get the number of years since being buily\n",
    "df.yr_built = 2021 - df.yr_built"
   ],
   "outputs": [],
   "metadata": {}
  },
  {
   "cell_type": "code",
   "execution_count": null,
   "source": [
    "# get the number of years since being renovated, if not set to 0\n",
    "df.yr_renovated = 2021 - df.yr_renovated\n",
    "df.yr_renovated = np.where(df.yr_renovated > 2020, 0, df.yr_renovated)"
   ],
   "outputs": [],
   "metadata": {}
  },
  {
   "cell_type": "code",
   "execution_count": null,
   "source": [
    "sns.set(style=\"ticks\")\n",
    "f, (ax_box, ax_hist) = plt.subplots(2, sharex=True, figsize=(11.7, 8.27),\n",
    "                                    gridspec_kw={\"height_ratios\": (.15, .85)})\n",
    "\n",
    "sns.boxplot(df.yr_built, ax=ax_box)\n",
    "sns.histplot(df.yr_built, ax=ax_hist)\n",
    "\n",
    "ax_box.set(yticks=[])\n",
    "sns.despine(ax=ax_hist)\n",
    "sns.despine(ax=ax_box, left=True)"
   ],
   "outputs": [],
   "metadata": {}
  },
  {
   "cell_type": "code",
   "execution_count": null,
   "source": [
    "sns.set(style=\"ticks\")\n",
    "f, (ax_box, ax_hist) = plt.subplots(2, sharex=True, figsize=(11.7, 8.27),\n",
    "                                    gridspec_kw={\"height_ratios\": (.15, .85)})\n",
    "\n",
    "sns.boxplot(df.price, ax=ax_box)\n",
    "sns.histplot(df.price, ax=ax_hist)\n",
    "\n",
    "ax_box.set(yticks=[])\n",
    "sns.despine(ax=ax_hist)\n",
    "sns.despine(ax=ax_box, left=True)"
   ],
   "outputs": [],
   "metadata": {}
  },
  {
   "cell_type": "code",
   "execution_count": null,
   "source": [
    "# filter out outliers that are greater than 3 std from mean on target values \n",
    "\n",
    "outliers = []\n",
    "def detect_outliers(col):\n",
    "    mu = np.mean(col)\n",
    "    std = np.std(col)\n",
    "    \n",
    "    for i in col:\n",
    "        z_score = (i - mu)/ std\n",
    "        if np.abs(z_score) > 3:\n",
    "            outliers.append(i)\n",
    "    return outliers\n",
    "    \n",
    "\n",
    "outlier_pt=detect_outliers(df.price)\n",
    "print(df.price.shape)\n",
    "df = df[~df.price.isin(outlier_pt)]\n",
    "print(df.shape)"
   ],
   "outputs": [],
   "metadata": {}
  },
  {
   "cell_type": "code",
   "execution_count": null,
   "source": [
    "sns.set(style=\"ticks\")\n",
    "f, (ax_box, ax_hist) = plt.subplots(2, sharex=True, figsize=(11.7, 8.27),\n",
    "                                    gridspec_kw={\"height_ratios\": (.15, .85)})\n",
    "\n",
    "sns.boxplot(df.price, ax=ax_box)\n",
    "sns.histplot(df.price, ax=ax_hist)\n",
    "\n",
    "ax_box.set(yticks=[])\n",
    "sns.despine(ax=ax_hist)\n",
    "sns.despine(ax=ax_box, left=True)"
   ],
   "outputs": [],
   "metadata": {}
  },
  {
   "cell_type": "code",
   "execution_count": null,
   "source": [
    "import matplotlib.pyplot as plt\n",
    "import matplotlib.style as style\n",
    "import matplotlib.gridspec as gridspec\n",
    "\n",
    "def plotting_3_chart(df, feature):\n",
    "    ## Importing seaborn, matplotlab and scipy modules. \n",
    "    style.use('fivethirtyeight')\n",
    "\n",
    "    ## Creating a customized chart. and giving in figsize and everything. \n",
    "    fig = plt.figure(constrained_layout=True, figsize=(15,15))\n",
    "    ## creating a grid of 3 cols and 3 rows. \n",
    "    grid = gridspec.GridSpec(ncols=4, nrows=2, figure=fig)\n",
    "    \n",
    "    ## Customizing the histogram grid. \n",
    "    ax1 = fig.add_subplot(grid[0, :2])\n",
    "    ax1.set_title('Histogram')\n",
    "    sns.distplot(df.loc[:,feature], norm_hist=True, ax = ax1)\n",
    "\n",
    "    # customizing the QQ_plot. \n",
    "    ax2 = fig.add_subplot(grid[1, :2])\n",
    "    ax2.set_title('QQ_plot')\n",
    "    stats.probplot(df.loc[:,feature], plot = ax2)\n",
    "\n",
    "    ## Customizing the Box Plot. \n",
    "    ax3 = fig.add_subplot(grid[:, 2])\n",
    "    ax3.set_title('Box Plot')\n",
    "    # sns.boxplot(df.loc[:,feature], orient='v', ax = ax3)\n",
    "    sns.boxplot(y=df.price, orient='v', ax = ax3)\n",
    "\n",
    "plotting_3_chart(df, 'price')"
   ],
   "outputs": [],
   "metadata": {}
  },
  {
   "cell_type": "code",
   "execution_count": null,
   "source": [
    "f, (ax1, ax2) = plt.subplots(2, 1, figsize=(12, 10))\n",
    "ax1.set(yscale = \"log\")\n",
    "sns.stripplot(x = \"bedrooms\", y = \"price\", data = df, ax = ax1, jitter=True, palette=\"Blues_d\")"
   ],
   "outputs": [],
   "metadata": {}
  },
  {
   "cell_type": "code",
   "execution_count": null,
   "source": [
    "fig = plt.figure(figsize=(10,10))\n",
    "ax = plt.axes(projection=\"3d\")\n",
    "\n",
    "z_points = df['price']\n",
    "x_points = df['condition']\n",
    "y_points = df['yr_built']\n",
    "ax.scatter3D(x_points, y_points, z_points, c=z_points, cmap='hsv')\n",
    "\n",
    "ax.set_xlabel('Condition')\n",
    "ax.set_ylabel('Number of Years since being built')\n",
    "ax.set_zlabel('Price in Milions ($)')\n",
    "plt.show()"
   ],
   "outputs": [],
   "metadata": {}
  },
  {
   "cell_type": "code",
   "execution_count": null,
   "source": [
    "# remove WA from statezip zip column and convert to int64\n",
    "df.statezip = df.statezip.str.replace(r'\\D', '')\n",
    "df.statezip = pd.to_numeric(df.statezip,errors='coerce')"
   ],
   "outputs": [],
   "metadata": {}
  },
  {
   "cell_type": "code",
   "execution_count": null,
   "source": [
    "# get city unique values\n",
    "print(len(df.city.value_counts()))\n",
    "# extract the top ten and one hot encode \n",
    "top_10 = [x for x in df.city.value_counts().sort_values(ascending=False).head(10).index]\n",
    "print(top_10)"
   ],
   "outputs": [],
   "metadata": {}
  },
  {
   "cell_type": "code",
   "execution_count": null,
   "source": [
    "df_ohe_city = df.copy()\n",
    "\n",
    "def one_hot_top_x(df, variable, top_x_labels):\n",
    "    for label in top_x_labels:\n",
    "        df[variable+'_'+label] = np.where(df[variable]==label, 1, 0)\n",
    "        \n",
    "        \n",
    "one_hot_top_x(df_ohe_city, 'city', top_10)\n",
    "\n",
    "df_ohe_city.drop('city', axis=1, inplace=True)\n",
    "\n",
    "df_ohe_city.columns"
   ],
   "outputs": [],
   "metadata": {}
  },
  {
   "cell_type": "code",
   "execution_count": null,
   "source": [
    "df_ohe_city.statezip.value_counts()"
   ],
   "outputs": [],
   "metadata": {}
  },
  {
   "cell_type": "code",
   "execution_count": null,
   "source": [
    "# feature engineer the zipcode by target encoding \n",
    "# getting the mean price (target value) for each zipcode \n",
    "city_target_encode = df_ohe_city.groupby(['statezip'])['price'].mean().to_dict()\n",
    "df_ohe_city['statezip'] =  df_ohe_city['statezip'].map(city_target_encode)\n"
   ],
   "outputs": [],
   "metadata": {}
  },
  {
   "cell_type": "code",
   "execution_count": null,
   "source": [
    "df_target_encode = df.copy()"
   ],
   "outputs": [],
   "metadata": {}
  },
  {
   "cell_type": "code",
   "execution_count": null,
   "source": [
    "city_target_encode = df_target_encode.groupby(['city'])['price'].mean().to_dict()\n",
    "df_target_encode['city'] =  df_target_encode['city'].map(city_target_encode)\n",
    "\n",
    "\n",
    "city_target_encode = df_target_encode.groupby(['statezip'])['price'].mean().to_dict()\n",
    "df_target_encode['statezip'] =  df_target_encode['statezip'].map(city_target_encode)\n",
    "\n",
    "df_target_encode"
   ],
   "outputs": [],
   "metadata": {}
  },
  {
   "cell_type": "code",
   "execution_count": null,
   "source": [
    "city_target_encode = df.groupby(['city'])['price'].mean().to_dict()\n",
    "df['city'] =  df['city'].map(city_target_encode)\n",
    "df"
   ],
   "outputs": [],
   "metadata": {}
  },
  {
   "cell_type": "code",
   "execution_count": null,
   "source": [
    "df"
   ],
   "outputs": [],
   "metadata": {}
  },
  {
   "cell_type": "code",
   "execution_count": null,
   "source": [
    "# plt correlation with df with city being traget encoded\n",
    "\n",
    "corr = df.corr()\n",
    "mask = np.triu(np.ones_like(corr, dtype=bool))\n",
    "f, ax = plt.subplots(figsize=(11, 9))\n",
    "cmap = sns.diverging_palette(230, 20, as_cmap=True)\n",
    "sns.heatmap(corr, mask=mask, cmap=cmap, vmax=.3, center=0,\n",
    "            square=True, linewidths=.5, cbar_kws={\"shrink\": .5})\n",
    "\n"
   ],
   "outputs": [],
   "metadata": {}
  },
  {
   "cell_type": "code",
   "execution_count": null,
   "source": [
    "# plt correlation with df with city and zipcode being traget encoded\n",
    "corr = df_target_encode.corr()\n",
    "mask = np.triu(np.ones_like(corr, dtype=bool))\n",
    "f, ax = plt.subplots(figsize=(11, 9))\n",
    "cmap = sns.diverging_palette(230, 20, as_cmap=True)\n",
    "sns.heatmap(corr, mask=mask, cmap=cmap, vmax=.3, center=0,\n",
    "            square=True, linewidths=.5, cbar_kws={\"shrink\": .5})\n"
   ],
   "outputs": [],
   "metadata": {}
  },
  {
   "cell_type": "code",
   "execution_count": null,
   "source": [
    "# plot correlation with df with city and zipcode being traget encoded\n",
    "corr = df_ohe_city.corr()\n",
    "mask = np.triu(np.ones_like(corr, dtype=bool))\n",
    "f, ax = plt.subplots(figsize=(11, 9))\n",
    "cmap = sns.diverging_palette(230, 20, as_cmap=True)\n",
    "sns.heatmap(corr, mask=mask, cmap=cmap, vmax=.3, center=0,\n",
    "            square=True, linewidths=.5, cbar_kws={\"shrink\": .5})\n"
   ],
   "outputs": [],
   "metadata": {}
  },
  {
   "cell_type": "code",
   "execution_count": null,
   "source": [
    "df.to_csv('../inputs/train_clean.csv')\n",
    "df_ohe_city.to_csv('../inputs/train_ohe.csv')\n",
    "df_target_encode.to_csv('../inputs/train_target_encode.csv')"
   ],
   "outputs": [],
   "metadata": {}
  },
  {
   "cell_type": "code",
   "execution_count": null,
   "source": [],
   "outputs": [],
   "metadata": {}
  }
 ],
 "metadata": {
  "orig_nbformat": 4,
  "language_info": {
   "name": "python",
   "version": "3.7.9",
   "mimetype": "text/x-python",
   "codemirror_mode": {
    "name": "ipython",
    "version": 3
   },
   "pygments_lexer": "ipython3",
   "nbconvert_exporter": "python",
   "file_extension": ".py"
  },
  "kernelspec": {
   "name": "python3",
   "display_name": "Python 3.7.9 64-bit (conda)"
  },
  "interpreter": {
   "hash": "10e89b4373ca82b9aa008416dbc6678ec2573a3d463e333e4d350f38af34d33f"
  }
 },
 "nbformat": 4,
 "nbformat_minor": 2
}